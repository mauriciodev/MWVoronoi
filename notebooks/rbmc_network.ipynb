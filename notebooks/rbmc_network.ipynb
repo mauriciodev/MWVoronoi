{
  "nbformat": 4,
  "nbformat_minor": 0,
  "metadata": {
    "colab": {
      "provenance": [],
      "include_colab_link": true
    },
    "kernelspec": {
      "name": "python3",
      "display_name": "Python 3"
    },
    "language_info": {
      "name": "python"
    }
  },
  "cells": [
    {
      "cell_type": "markdown",
      "metadata": {
        "id": "view-in-github",
        "colab_type": "text"
      },
      "source": [
        "<a href=\"https://colab.research.google.com/github/mauriciodev/MWVoronoi/blob/master/notebooks/rbmc_network.ipynb\" target=\"_parent\"><img src=\"https://colab.research.google.com/assets/colab-badge.svg\" alt=\"Open In Colab\"/></a>"
      ]
    },
    {
      "cell_type": "markdown",
      "metadata": {
        "id": "4w4b85gQc_vT"
      },
      "source": [
        "# Input"
      ]
    },
    {
      "cell_type": "code",
      "metadata": {
        "id": "slW500USb7G4"
      },
      "source": [
        "inputTime='2021-05-30T23:45:00'\n",
        "receiverLonLat=[-49.35995, -20.78552] #decimal degrees\n",
        "maxDistance=250000 #in meters"
      ],
      "execution_count": null,
      "outputs": []
    },
    {
      "cell_type": "markdown",
      "metadata": {
        "id": "umM019u2cD_V"
      },
      "source": [
        "# Libraries"
      ]
    },
    {
      "cell_type": "code",
      "metadata": {
        "id": "gF_vNhEhcDni"
      },
      "source": [
        "#Imported libraries\n",
        "import os\n",
        "import numpy as np\n",
        "from numpy import *\n",
        "import pandas as pd\n",
        "import matplotlib.pyplot as plt\n",
        "from io import StringIO ## for Python 3\n",
        "import ogr,osr\n",
        "pd.options.display.float_format = '{:.3f}'.format\n"
      ],
      "execution_count": null,
      "outputs": []
    },
    {
      "cell_type": "code",
      "metadata": {
        "colab": {
          "base_uri": "https://localhost:8080/"
        },
        "id": "0wrslpIBcth2",
        "outputId": "d396e107-b4fa-422d-d14f-243528c4de8f"
      },
      "source": [
        "#!rm -rf spatialgeodesy\n",
        "!git clone https://github.com/mauriciodev/spatialgeodesy.git\n",
        "from spatialgeodesy import gnsstime"
      ],
      "execution_count": null,
      "outputs": [
        {
          "output_type": "stream",
          "name": "stdout",
          "text": [
            "fatal: destination path 'spatialgeodesy' already exists and is not an empty directory.\n"
          ]
        }
      ]
    },
    {
      "cell_type": "code",
      "metadata": {
        "colab": {
          "base_uri": "https://localhost:8080/"
        },
        "id": "r4ZCwychzPvg",
        "outputId": "0ba9777d-18aa-4b3b-c335-ec9817f14bf7"
      },
      "source": [
        "!pip install geopandas\n",
        "import geopandas\n",
        "from shapely.geometry import Point"
      ],
      "execution_count": null,
      "outputs": [
        {
          "output_type": "stream",
          "name": "stdout",
          "text": [
            "Requirement already satisfied: geopandas in /usr/local/lib/python3.7/dist-packages (0.10.2)\n",
            "Requirement already satisfied: fiona>=1.8 in /usr/local/lib/python3.7/dist-packages (from geopandas) (1.8.20)\n",
            "Requirement already satisfied: pandas>=0.25.0 in /usr/local/lib/python3.7/dist-packages (from geopandas) (1.1.5)\n",
            "Requirement already satisfied: shapely>=1.6 in /usr/local/lib/python3.7/dist-packages (from geopandas) (1.8.0)\n",
            "Requirement already satisfied: pyproj>=2.2.0 in /usr/local/lib/python3.7/dist-packages (from geopandas) (3.2.1)\n",
            "Requirement already satisfied: click-plugins>=1.0 in /usr/local/lib/python3.7/dist-packages (from fiona>=1.8->geopandas) (1.1.1)\n",
            "Requirement already satisfied: munch in /usr/local/lib/python3.7/dist-packages (from fiona>=1.8->geopandas) (2.5.0)\n",
            "Requirement already satisfied: click>=4.0 in /usr/local/lib/python3.7/dist-packages (from fiona>=1.8->geopandas) (7.1.2)\n",
            "Requirement already satisfied: setuptools in /usr/local/lib/python3.7/dist-packages (from fiona>=1.8->geopandas) (57.4.0)\n",
            "Requirement already satisfied: attrs>=17 in /usr/local/lib/python3.7/dist-packages (from fiona>=1.8->geopandas) (21.2.0)\n",
            "Requirement already satisfied: six>=1.7 in /usr/local/lib/python3.7/dist-packages (from fiona>=1.8->geopandas) (1.15.0)\n",
            "Requirement already satisfied: certifi in /usr/local/lib/python3.7/dist-packages (from fiona>=1.8->geopandas) (2021.10.8)\n",
            "Requirement already satisfied: cligj>=0.5 in /usr/local/lib/python3.7/dist-packages (from fiona>=1.8->geopandas) (0.7.2)\n",
            "Requirement already satisfied: pytz>=2017.2 in /usr/local/lib/python3.7/dist-packages (from pandas>=0.25.0->geopandas) (2018.9)\n",
            "Requirement already satisfied: python-dateutil>=2.7.3 in /usr/local/lib/python3.7/dist-packages (from pandas>=0.25.0->geopandas) (2.8.2)\n",
            "Requirement already satisfied: numpy>=1.15.4 in /usr/local/lib/python3.7/dist-packages (from pandas>=0.25.0->geopandas) (1.19.5)\n"
          ]
        }
      ]
    },
    {
      "cell_type": "markdown",
      "metadata": {
        "id": "HTxbbJdhcGzy"
      },
      "source": [
        "# SIRGAS Con data"
      ]
    },
    {
      "cell_type": "code",
      "metadata": {
        "id": "J4LhS5Qoc2Y0"
      },
      "source": [
        "t=np.datetime64(inputTime)"
      ],
      "execution_count": null,
      "outputs": []
    },
    {
      "cell_type": "code",
      "metadata": {
        "colab": {
          "base_uri": "https://localhost:8080/"
        },
        "id": "6zeLwwqPc9mm",
        "outputId": "0a2d6124-f997-4b33-d65e-9c704f8db595"
      },
      "source": [
        "week=gnsstime.getGpsWeek(t)\n",
        "year=gnsstime.getYear(t)\n",
        "doy=gnsstime.getDOY(t)\n",
        "print(\"Week:\",week)\n",
        "print(\"Year:\",year)\n",
        "print(\"Day of Year:\",doy)"
      ],
      "execution_count": null,
      "outputs": [
        {
          "output_type": "stream",
          "name": "stdout",
          "text": [
            "Week: 2160\n",
            "Year: 2021\n",
            "Day of Year: 150\n"
          ]
        }
      ]
    },
    {
      "cell_type": "code",
      "metadata": {
        "colab": {
          "base_uri": "https://localhost:8080/"
        },
        "id": "_o2vhUuAcb1T",
        "outputId": "634db769-17f0-458b-b447-b0ae43f3d5f1"
      },
      "source": [
        "sirgasCoordsUrl=\"ftp://ftp.sirgas.org/pub/gps/SIRGAS/{0:04d}/ibg{1}P{0:04d}.crd\".format(week,year%100)\n",
        "import urllib.request\n",
        "urllib.request.urlretrieve(sirgasCoordsUrl, 'sirgasCoords.crd')\n",
        "print(sirgasCoordsUrl)"
      ],
      "execution_count": null,
      "outputs": [
        {
          "output_type": "stream",
          "name": "stdout",
          "text": [
            "ftp://ftp.sirgas.org/pub/gps/SIRGAS/2160/ibg21P2160.crd\n"
          ]
        }
      ]
    },
    {
      "cell_type": "code",
      "metadata": {
        "colab": {
          "base_uri": "https://localhost:8080/",
          "height": 423
        },
        "id": "bWiEVN54fp16",
        "outputId": "48cecaf3-be2a-4169-8163-f9d4083bd9c2"
      },
      "source": [
        "sirgasDF=pd.read_fwf('sirgasCoords.crd',skiprows=4).dropna()\n",
        "sirgasDF"
      ],
      "execution_count": null,
      "outputs": [
        {
          "output_type": "execute_result",
          "data": {
            "text/html": [
              "<div>\n",
              "<style scoped>\n",
              "    .dataframe tbody tr th:only-of-type {\n",
              "        vertical-align: middle;\n",
              "    }\n",
              "\n",
              "    .dataframe tbody tr th {\n",
              "        vertical-align: top;\n",
              "    }\n",
              "\n",
              "    .dataframe thead th {\n",
              "        text-align: right;\n",
              "    }\n",
              "</style>\n",
              "<table border=\"1\" class=\"dataframe\">\n",
              "  <thead>\n",
              "    <tr style=\"text-align: right;\">\n",
              "      <th></th>\n",
              "      <th>NUM</th>\n",
              "      <th>STATION NAME</th>\n",
              "      <th>X (M)</th>\n",
              "      <th>Y (M)</th>\n",
              "      <th>Z (M)</th>\n",
              "      <th>FLAG</th>\n",
              "    </tr>\n",
              "  </thead>\n",
              "  <tbody>\n",
              "    <tr>\n",
              "      <th>1</th>\n",
              "      <td>1.000</td>\n",
              "      <td>AACR 40612M001</td>\n",
              "      <td>644009.071</td>\n",
              "      <td>-6251064.244</td>\n",
              "      <td>1093780.977</td>\n",
              "      <td>A</td>\n",
              "    </tr>\n",
              "    <tr>\n",
              "      <th>2</th>\n",
              "      <td>5.000</td>\n",
              "      <td>ABCC 41939M001</td>\n",
              "      <td>1739437.980</td>\n",
              "      <td>-6117252.412</td>\n",
              "      <td>515065.128</td>\n",
              "      <td>A</td>\n",
              "    </tr>\n",
              "    <tr>\n",
              "      <th>3</th>\n",
              "      <td>6.000</td>\n",
              "      <td>ABMF 97103M001</td>\n",
              "      <td>2919785.796</td>\n",
              "      <td>-5383744.941</td>\n",
              "      <td>1774604.881</td>\n",
              "      <td>A</td>\n",
              "    </tr>\n",
              "    <tr>\n",
              "      <th>4</th>\n",
              "      <td>7.000</td>\n",
              "      <td>ABPD 41941M001</td>\n",
              "      <td>1742983.244</td>\n",
              "      <td>-6118331.483</td>\n",
              "      <td>494730.772</td>\n",
              "      <td>A</td>\n",
              "    </tr>\n",
              "    <tr>\n",
              "      <th>5</th>\n",
              "      <td>9.000</td>\n",
              "      <td>ABPW 41940M001</td>\n",
              "      <td>1753507.203</td>\n",
              "      <td>-6113239.022</td>\n",
              "      <td>518210.640</td>\n",
              "      <td>A</td>\n",
              "    </tr>\n",
              "    <tr>\n",
              "      <th>...</th>\n",
              "      <td>...</td>\n",
              "      <td>...</td>\n",
              "      <td>...</td>\n",
              "      <td>...</td>\n",
              "      <td>...</td>\n",
              "      <td>...</td>\n",
              "    </tr>\n",
              "    <tr>\n",
              "      <th>398</th>\n",
              "      <td>840.000</td>\n",
              "      <td>WILL 40134M001</td>\n",
              "      <td>-2084258.432</td>\n",
              "      <td>-3313873.004</td>\n",
              "      <td>5019852.950</td>\n",
              "      <td>W</td>\n",
              "    </tr>\n",
              "    <tr>\n",
              "      <th>399</th>\n",
              "      <td>841.000</td>\n",
              "      <td>WIND 31101M001</td>\n",
              "      <td>5633708.795</td>\n",
              "      <td>1732018.062</td>\n",
              "      <td>-2433985.481</td>\n",
              "      <td>W</td>\n",
              "    </tr>\n",
              "    <tr>\n",
              "      <th>400</th>\n",
              "      <td>857.000</td>\n",
              "      <td>YELL 40127M003</td>\n",
              "      <td>-1224453.006</td>\n",
              "      <td>-2689216.215</td>\n",
              "      <td>5633638.283</td>\n",
              "      <td>W</td>\n",
              "    </tr>\n",
              "    <tr>\n",
              "      <th>401</th>\n",
              "      <td>858.000</td>\n",
              "      <td>YEMA 41569M001</td>\n",
              "      <td>2799305.092</td>\n",
              "      <td>-5099611.024</td>\n",
              "      <td>-2606734.071</td>\n",
              "      <td>A</td>\n",
              "    </tr>\n",
              "    <tr>\n",
              "      <th>402</th>\n",
              "      <td>862.000</td>\n",
              "      <td>ZARZ 41950M001</td>\n",
              "      <td>1531451.981</td>\n",
              "      <td>-6173322.919</td>\n",
              "      <td>485754.033</td>\n",
              "      <td>A</td>\n",
              "    </tr>\n",
              "  </tbody>\n",
              "</table>\n",
              "<p>402 rows × 6 columns</p>\n",
              "</div>"
            ],
            "text/plain": [
              "        NUM    STATION NAME        X (M)        Y (M)        Z (M) FLAG\n",
              "1     1.000  AACR 40612M001   644009.071 -6251064.244  1093780.977    A\n",
              "2     5.000  ABCC 41939M001  1739437.980 -6117252.412   515065.128    A\n",
              "3     6.000  ABMF 97103M001  2919785.796 -5383744.941  1774604.881    A\n",
              "4     7.000  ABPD 41941M001  1742983.244 -6118331.483   494730.772    A\n",
              "5     9.000  ABPW 41940M001  1753507.203 -6113239.022   518210.640    A\n",
              "..      ...             ...          ...          ...          ...  ...\n",
              "398 840.000  WILL 40134M001 -2084258.432 -3313873.004  5019852.950    W\n",
              "399 841.000  WIND 31101M001  5633708.795  1732018.062 -2433985.481    W\n",
              "400 857.000  YELL 40127M003 -1224453.006 -2689216.215  5633638.283    W\n",
              "401 858.000  YEMA 41569M001  2799305.092 -5099611.024 -2606734.071    A\n",
              "402 862.000  ZARZ 41950M001  1531451.981 -6173322.919   485754.033    A\n",
              "\n",
              "[402 rows x 6 columns]"
            ]
          },
          "metadata": {},
          "execution_count": 28
        }
      ]
    },
    {
      "cell_type": "markdown",
      "metadata": {
        "id": "E71SZts9meXq"
      },
      "source": [
        "# Preparing coordinate transformation"
      ]
    },
    {
      "cell_type": "code",
      "metadata": {
        "id": "U8a41gV2mcqC"
      },
      "source": [
        "ecefSRS=osr.SpatialReference()\n",
        "ecefSRS.ImportFromEPSG(4978)\n",
        "wgsSRS = osr.SpatialReference()\n",
        "wgsSRS.ImportFromEPSG(4326)\n",
        "# create the CoordinateTransformation\n",
        "forwardTrans = osr.CoordinateTransformation(ecefSRS, wgsSRS)\n",
        "inverseTrans = osr.CoordinateTransformation(wgsSRS, ecefSRS)"
      ],
      "execution_count": null,
      "outputs": []
    },
    {
      "cell_type": "code",
      "metadata": {
        "id": "PJr81uqO0OcE"
      },
      "source": [
        "def toLLH(row):\n",
        "  lonlath=forwardTrans.TransformPoint(row[\"X (M)\"],row[\"Y (M)\"],row[\"Z (M)\"])\n",
        "  return Point(lonlath[0],lonlath[1])\n",
        "sirgasDF[\"geom\"]=sirgasDF.apply(toLLH, axis=1)"
      ],
      "execution_count": null,
      "outputs": []
    },
    {
      "cell_type": "code",
      "metadata": {
        "colab": {
          "base_uri": "https://localhost:8080/",
          "height": 423
        },
        "id": "WDaoTxZpzrzy",
        "outputId": "fb60d8e3-0434-4ab8-bbfd-82b92609cd40"
      },
      "source": [
        "sirgasDF"
      ],
      "execution_count": null,
      "outputs": [
        {
          "output_type": "execute_result",
          "data": {
            "text/html": [
              "<div>\n",
              "<style scoped>\n",
              "    .dataframe tbody tr th:only-of-type {\n",
              "        vertical-align: middle;\n",
              "    }\n",
              "\n",
              "    .dataframe tbody tr th {\n",
              "        vertical-align: top;\n",
              "    }\n",
              "\n",
              "    .dataframe thead th {\n",
              "        text-align: right;\n",
              "    }\n",
              "</style>\n",
              "<table border=\"1\" class=\"dataframe\">\n",
              "  <thead>\n",
              "    <tr style=\"text-align: right;\">\n",
              "      <th></th>\n",
              "      <th>NUM</th>\n",
              "      <th>STATION NAME</th>\n",
              "      <th>X (M)</th>\n",
              "      <th>Y (M)</th>\n",
              "      <th>Z (M)</th>\n",
              "      <th>FLAG</th>\n",
              "      <th>geom</th>\n",
              "    </tr>\n",
              "  </thead>\n",
              "  <tbody>\n",
              "    <tr>\n",
              "      <th>1</th>\n",
              "      <td>1.000</td>\n",
              "      <td>AACR 40612M001</td>\n",
              "      <td>644009.071</td>\n",
              "      <td>-6251064.244</td>\n",
              "      <td>1093780.977</td>\n",
              "      <td>A</td>\n",
              "      <td>POINT (-84.11791693873606 9.938849669469976)</td>\n",
              "    </tr>\n",
              "    <tr>\n",
              "      <th>2</th>\n",
              "      <td>5.000</td>\n",
              "      <td>ABCC 41939M001</td>\n",
              "      <td>1739437.980</td>\n",
              "      <td>-6117252.412</td>\n",
              "      <td>515065.128</td>\n",
              "      <td>A</td>\n",
              "      <td>POINT (-74.12692224118399 4.661235562888288)</td>\n",
              "    </tr>\n",
              "    <tr>\n",
              "      <th>3</th>\n",
              "      <td>6.000</td>\n",
              "      <td>ABMF 97103M001</td>\n",
              "      <td>2919785.796</td>\n",
              "      <td>-5383744.941</td>\n",
              "      <td>1774604.881</td>\n",
              "      <td>A</td>\n",
              "      <td>POINT (-61.52753532128185 16.26230698543668)</td>\n",
              "    </tr>\n",
              "    <tr>\n",
              "      <th>4</th>\n",
              "      <td>7.000</td>\n",
              "      <td>ABPD 41941M001</td>\n",
              "      <td>1742983.244</td>\n",
              "      <td>-6118331.483</td>\n",
              "      <td>494730.772</td>\n",
              "      <td>A</td>\n",
              "      <td>POINT (-74.09886813491231 4.476567764674958)</td>\n",
              "    </tr>\n",
              "    <tr>\n",
              "      <th>5</th>\n",
              "      <td>9.000</td>\n",
              "      <td>ABPW 41940M001</td>\n",
              "      <td>1753507.203</td>\n",
              "      <td>-6113239.022</td>\n",
              "      <td>518210.640</td>\n",
              "      <td>A</td>\n",
              "      <td>POINT (-73.99511463680932 4.689570637686299)</td>\n",
              "    </tr>\n",
              "    <tr>\n",
              "      <th>...</th>\n",
              "      <td>...</td>\n",
              "      <td>...</td>\n",
              "      <td>...</td>\n",
              "      <td>...</td>\n",
              "      <td>...</td>\n",
              "      <td>...</td>\n",
              "      <td>...</td>\n",
              "    </tr>\n",
              "    <tr>\n",
              "      <th>398</th>\n",
              "      <td>840.000</td>\n",
              "      <td>WILL 40134M001</td>\n",
              "      <td>-2084258.432</td>\n",
              "      <td>-3313873.004</td>\n",
              "      <td>5019852.950</td>\n",
              "      <td>W</td>\n",
              "      <td>POINT (-122.1678154276156 52.23686613834015)</td>\n",
              "    </tr>\n",
              "    <tr>\n",
              "      <th>399</th>\n",
              "      <td>841.000</td>\n",
              "      <td>WIND 31101M001</td>\n",
              "      <td>5633708.795</td>\n",
              "      <td>1732018.062</td>\n",
              "      <td>-2433985.481</td>\n",
              "      <td>W</td>\n",
              "      <td>POINT (17.08943506128152 -22.57491734065494)</td>\n",
              "    </tr>\n",
              "    <tr>\n",
              "      <th>400</th>\n",
              "      <td>857.000</td>\n",
              "      <td>YELL 40127M003</td>\n",
              "      <td>-1224453.006</td>\n",
              "      <td>-2689216.215</td>\n",
              "      <td>5633638.283</td>\n",
              "      <td>W</td>\n",
              "      <td>POINT (-114.4807069687518 62.48089220153378)</td>\n",
              "    </tr>\n",
              "    <tr>\n",
              "      <th>401</th>\n",
              "      <td>858.000</td>\n",
              "      <td>YEMA 41569M001</td>\n",
              "      <td>2799305.092</td>\n",
              "      <td>-5099611.024</td>\n",
              "      <td>-2606734.071</td>\n",
              "      <td>A</td>\n",
              "      <td>POINT (-61.23650639419663 -24.28072930417299)</td>\n",
              "    </tr>\n",
              "    <tr>\n",
              "      <th>402</th>\n",
              "      <td>862.000</td>\n",
              "      <td>ZARZ 41950M001</td>\n",
              "      <td>1531451.981</td>\n",
              "      <td>-6173322.919</td>\n",
              "      <td>485754.033</td>\n",
              "      <td>A</td>\n",
              "      <td>POINT (-76.06756710316013 4.396576485393213)</td>\n",
              "    </tr>\n",
              "  </tbody>\n",
              "</table>\n",
              "<p>402 rows × 7 columns</p>\n",
              "</div>"
            ],
            "text/plain": [
              "        NUM    STATION NAME  ...  FLAG                                           geom\n",
              "1     1.000  AACR 40612M001  ...     A   POINT (-84.11791693873606 9.938849669469976)\n",
              "2     5.000  ABCC 41939M001  ...     A   POINT (-74.12692224118399 4.661235562888288)\n",
              "3     6.000  ABMF 97103M001  ...     A   POINT (-61.52753532128185 16.26230698543668)\n",
              "4     7.000  ABPD 41941M001  ...     A   POINT (-74.09886813491231 4.476567764674958)\n",
              "5     9.000  ABPW 41940M001  ...     A   POINT (-73.99511463680932 4.689570637686299)\n",
              "..      ...             ...  ...   ...                                            ...\n",
              "398 840.000  WILL 40134M001  ...     W   POINT (-122.1678154276156 52.23686613834015)\n",
              "399 841.000  WIND 31101M001  ...     W   POINT (17.08943506128152 -22.57491734065494)\n",
              "400 857.000  YELL 40127M003  ...     W   POINT (-114.4807069687518 62.48089220153378)\n",
              "401 858.000  YEMA 41569M001  ...     A  POINT (-61.23650639419663 -24.28072930417299)\n",
              "402 862.000  ZARZ 41950M001  ...     A   POINT (-76.06756710316013 4.396576485393213)\n",
              "\n",
              "[402 rows x 7 columns]"
            ]
          },
          "metadata": {},
          "execution_count": 31
        }
      ]
    },
    {
      "cell_type": "code",
      "metadata": {
        "colab": {
          "base_uri": "https://localhost:8080/",
          "height": 423
        },
        "id": "hdIQWzW607eA",
        "outputId": "3a12b36f-03f6-4da3-aa00-5f793f9f2026"
      },
      "source": [
        "sirgasGDF = geopandas.GeoDataFrame(sirgasDF, geometry='geom')\n",
        "sirgasGDF\n"
      ],
      "execution_count": null,
      "outputs": [
        {
          "output_type": "execute_result",
          "data": {
            "text/html": [
              "<div>\n",
              "<style scoped>\n",
              "    .dataframe tbody tr th:only-of-type {\n",
              "        vertical-align: middle;\n",
              "    }\n",
              "\n",
              "    .dataframe tbody tr th {\n",
              "        vertical-align: top;\n",
              "    }\n",
              "\n",
              "    .dataframe thead th {\n",
              "        text-align: right;\n",
              "    }\n",
              "</style>\n",
              "<table border=\"1\" class=\"dataframe\">\n",
              "  <thead>\n",
              "    <tr style=\"text-align: right;\">\n",
              "      <th></th>\n",
              "      <th>NUM</th>\n",
              "      <th>STATION NAME</th>\n",
              "      <th>X (M)</th>\n",
              "      <th>Y (M)</th>\n",
              "      <th>Z (M)</th>\n",
              "      <th>FLAG</th>\n",
              "      <th>geom</th>\n",
              "    </tr>\n",
              "  </thead>\n",
              "  <tbody>\n",
              "    <tr>\n",
              "      <th>1</th>\n",
              "      <td>1.000</td>\n",
              "      <td>AACR 40612M001</td>\n",
              "      <td>644009.071</td>\n",
              "      <td>-6251064.244</td>\n",
              "      <td>1093780.977</td>\n",
              "      <td>A</td>\n",
              "      <td>POINT (-84.11792 9.93885)</td>\n",
              "    </tr>\n",
              "    <tr>\n",
              "      <th>2</th>\n",
              "      <td>5.000</td>\n",
              "      <td>ABCC 41939M001</td>\n",
              "      <td>1739437.980</td>\n",
              "      <td>-6117252.412</td>\n",
              "      <td>515065.128</td>\n",
              "      <td>A</td>\n",
              "      <td>POINT (-74.12692 4.66124)</td>\n",
              "    </tr>\n",
              "    <tr>\n",
              "      <th>3</th>\n",
              "      <td>6.000</td>\n",
              "      <td>ABMF 97103M001</td>\n",
              "      <td>2919785.796</td>\n",
              "      <td>-5383744.941</td>\n",
              "      <td>1774604.881</td>\n",
              "      <td>A</td>\n",
              "      <td>POINT (-61.52754 16.26231)</td>\n",
              "    </tr>\n",
              "    <tr>\n",
              "      <th>4</th>\n",
              "      <td>7.000</td>\n",
              "      <td>ABPD 41941M001</td>\n",
              "      <td>1742983.244</td>\n",
              "      <td>-6118331.483</td>\n",
              "      <td>494730.772</td>\n",
              "      <td>A</td>\n",
              "      <td>POINT (-74.09887 4.47657)</td>\n",
              "    </tr>\n",
              "    <tr>\n",
              "      <th>5</th>\n",
              "      <td>9.000</td>\n",
              "      <td>ABPW 41940M001</td>\n",
              "      <td>1753507.203</td>\n",
              "      <td>-6113239.022</td>\n",
              "      <td>518210.640</td>\n",
              "      <td>A</td>\n",
              "      <td>POINT (-73.99511 4.68957)</td>\n",
              "    </tr>\n",
              "    <tr>\n",
              "      <th>...</th>\n",
              "      <td>...</td>\n",
              "      <td>...</td>\n",
              "      <td>...</td>\n",
              "      <td>...</td>\n",
              "      <td>...</td>\n",
              "      <td>...</td>\n",
              "      <td>...</td>\n",
              "    </tr>\n",
              "    <tr>\n",
              "      <th>398</th>\n",
              "      <td>840.000</td>\n",
              "      <td>WILL 40134M001</td>\n",
              "      <td>-2084258.432</td>\n",
              "      <td>-3313873.004</td>\n",
              "      <td>5019852.950</td>\n",
              "      <td>W</td>\n",
              "      <td>POINT (-122.16782 52.23687)</td>\n",
              "    </tr>\n",
              "    <tr>\n",
              "      <th>399</th>\n",
              "      <td>841.000</td>\n",
              "      <td>WIND 31101M001</td>\n",
              "      <td>5633708.795</td>\n",
              "      <td>1732018.062</td>\n",
              "      <td>-2433985.481</td>\n",
              "      <td>W</td>\n",
              "      <td>POINT (17.08944 -22.57492)</td>\n",
              "    </tr>\n",
              "    <tr>\n",
              "      <th>400</th>\n",
              "      <td>857.000</td>\n",
              "      <td>YELL 40127M003</td>\n",
              "      <td>-1224453.006</td>\n",
              "      <td>-2689216.215</td>\n",
              "      <td>5633638.283</td>\n",
              "      <td>W</td>\n",
              "      <td>POINT (-114.48071 62.48089)</td>\n",
              "    </tr>\n",
              "    <tr>\n",
              "      <th>401</th>\n",
              "      <td>858.000</td>\n",
              "      <td>YEMA 41569M001</td>\n",
              "      <td>2799305.092</td>\n",
              "      <td>-5099611.024</td>\n",
              "      <td>-2606734.071</td>\n",
              "      <td>A</td>\n",
              "      <td>POINT (-61.23651 -24.28073)</td>\n",
              "    </tr>\n",
              "    <tr>\n",
              "      <th>402</th>\n",
              "      <td>862.000</td>\n",
              "      <td>ZARZ 41950M001</td>\n",
              "      <td>1531451.981</td>\n",
              "      <td>-6173322.919</td>\n",
              "      <td>485754.033</td>\n",
              "      <td>A</td>\n",
              "      <td>POINT (-76.06757 4.39658)</td>\n",
              "    </tr>\n",
              "  </tbody>\n",
              "</table>\n",
              "<p>402 rows × 7 columns</p>\n",
              "</div>"
            ],
            "text/plain": [
              "        NUM    STATION NAME  ...  FLAG                         geom\n",
              "1     1.000  AACR 40612M001  ...     A    POINT (-84.11792 9.93885)\n",
              "2     5.000  ABCC 41939M001  ...     A    POINT (-74.12692 4.66124)\n",
              "3     6.000  ABMF 97103M001  ...     A   POINT (-61.52754 16.26231)\n",
              "4     7.000  ABPD 41941M001  ...     A    POINT (-74.09887 4.47657)\n",
              "5     9.000  ABPW 41940M001  ...     A    POINT (-73.99511 4.68957)\n",
              "..      ...             ...  ...   ...                          ...\n",
              "398 840.000  WILL 40134M001  ...     W  POINT (-122.16782 52.23687)\n",
              "399 841.000  WIND 31101M001  ...     W   POINT (17.08944 -22.57492)\n",
              "400 857.000  YELL 40127M003  ...     W  POINT (-114.48071 62.48089)\n",
              "401 858.000  YEMA 41569M001  ...     A  POINT (-61.23651 -24.28073)\n",
              "402 862.000  ZARZ 41950M001  ...     A    POINT (-76.06757 4.39658)\n",
              "\n",
              "[402 rows x 7 columns]"
            ]
          },
          "metadata": {},
          "execution_count": 32
        }
      ]
    },
    {
      "cell_type": "code",
      "metadata": {
        "colab": {
          "base_uri": "https://localhost:8080/",
          "height": 265
        },
        "id": "kVnx-E9P1DT9",
        "outputId": "48658432-001b-47ce-9438-8dfa426d936c"
      },
      "source": [
        "world = geopandas.read_file(geopandas.datasets.get_path('naturalearth_lowres'))\n",
        "ax = world[world.continent == 'South America'].plot(color='white', edgecolor='black')\n",
        "\n",
        "sirgasGDF.plot(ax=ax, color='red')\n",
        "\n",
        "plt.show()"
      ],
      "execution_count": null,
      "outputs": [
        {
          "output_type": "display_data",
          "data": {
            "image/png": "[encoded data removed]",
            "text/plain": [
              "<Figure size 432x288 with 1 Axes>"
            ]
          },
          "metadata": {
            "needs_background": "light"
          }
        }
      ]
    },
    {
      "cell_type": "markdown",
      "metadata": {
        "id": "VIpMoCR9agIS"
      },
      "source": [
        "# Finding nearest neighbors"
      ]
    },
    {
      "cell_type": "code",
      "metadata": {
        "colab": {
          "base_uri": "https://localhost:8080/",
          "height": 423
        },
        "id": "18qNk4B-dAW4",
        "outputId": "62456b03-7da4-4866-a4a2-065375551097"
      },
      "source": [
        "xyz=inverseTrans.TransformPoint(receiverLonLat[0],receiverLonLat[1])\n",
        "#np.sqrt((sirgasGDF[['X (M)']]-xyz[0])**2+(sirgasGDF[['Y (M)']]-xyz[1])**2+(sirgasGDF[['Z (M)']]-xyz[2])**2)\n",
        "sirgasGDF['distance (KM)']=np.linalg.norm(sirgasGDF[['X (M)', 'Y (M)', 'Z (M)']].values - xyz, axis=1)/1000\n",
        "sirgasGDF.sort_values(by='distance (KM)')"
      ],
      "execution_count": null,
      "outputs": [
        {
          "output_type": "execute_result",
          "data": {
            "text/html": [
              "<div>\n",
              "<style scoped>\n",
              "    .dataframe tbody tr th:only-of-type {\n",
              "        vertical-align: middle;\n",
              "    }\n",
              "\n",
              "    .dataframe tbody tr th {\n",
              "        vertical-align: top;\n",
              "    }\n",
              "\n",
              "    .dataframe thead th {\n",
              "        text-align: right;\n",
              "    }\n",
              "</style>\n",
              "<table border=\"1\" class=\"dataframe\">\n",
              "  <thead>\n",
              "    <tr style=\"text-align: right;\">\n",
              "      <th></th>\n",
              "      <th>NUM</th>\n",
              "      <th>STATION NAME</th>\n",
              "      <th>X (M)</th>\n",
              "      <th>Y (M)</th>\n",
              "      <th>Z (M)</th>\n",
              "      <th>FLAG</th>\n",
              "      <th>geom</th>\n",
              "      <th>distance (KM)</th>\n",
              "    </tr>\n",
              "  </thead>\n",
              "  <tbody>\n",
              "    <tr>\n",
              "      <th>314</th>\n",
              "      <td>668.000</td>\n",
              "      <td>SJRP 41633M001</td>\n",
              "      <td>3885706.910</td>\n",
              "      <td>-4527124.070</td>\n",
              "      <td>-2249399.894</td>\n",
              "      <td>A</td>\n",
              "      <td>POINT (-49.35995 -20.78552)</td>\n",
              "      <td>0.536</td>\n",
              "    </tr>\n",
              "    <tr>\n",
              "      <th>328</th>\n",
              "      <td>686.000</td>\n",
              "      <td>SPLI 41677M002</td>\n",
              "      <td>3833257.099</td>\n",
              "      <td>-4525414.192</td>\n",
              "      <td>-2340171.405</td>\n",
              "      <td>A</td>\n",
              "      <td>POINT (-49.73370 -21.66520)</td>\n",
              "      <td>104.846</td>\n",
              "    </tr>\n",
              "    <tr>\n",
              "      <th>325</th>\n",
              "      <td>683.000</td>\n",
              "      <td>SPFE 48082M001</td>\n",
              "      <td>3829575.672</td>\n",
              "      <td>-4601083.312</td>\n",
              "      <td>-2195192.220</td>\n",
              "      <td>A</td>\n",
              "      <td>POINT (-50.22870 -20.26287)</td>\n",
              "      <td>107.510</td>\n",
              "    </tr>\n",
              "    <tr>\n",
              "      <th>320</th>\n",
              "      <td>677.000</td>\n",
              "      <td>SPAR 41676M001</td>\n",
              "      <td>3789545.396</td>\n",
              "      <td>-4587255.859</td>\n",
              "      <td>-2290619.107</td>\n",
              "      <td>A</td>\n",
              "      <td>POINT (-50.43979 -21.18466)</td>\n",
              "      <td>120.668</td>\n",
              "    </tr>\n",
              "    <tr>\n",
              "      <th>327</th>\n",
              "      <td>685.000</td>\n",
              "      <td>SPJA 41686M001</td>\n",
              "      <td>3957806.696</td>\n",
              "      <td>-4440069.892</td>\n",
              "      <td>-2296499.619</td>\n",
              "      <td>A</td>\n",
              "      <td>POINT (-48.28670 -21.24107)</td>\n",
              "      <td>122.451</td>\n",
              "    </tr>\n",
              "    <tr>\n",
              "      <th>...</th>\n",
              "      <td>...</td>\n",
              "      <td>...</td>\n",
              "      <td>...</td>\n",
              "      <td>...</td>\n",
              "      <td>...</td>\n",
              "      <td>...</td>\n",
              "      <td>...</td>\n",
              "      <td>...</td>\n",
              "    </tr>\n",
              "    <tr>\n",
              "      <th>110</th>\n",
              "      <td>225.000</td>\n",
              "      <td>FAIR 40408M001</td>\n",
              "      <td>-2281622.008</td>\n",
              "      <td>-1453595.974</td>\n",
              "      <td>5756961.688</td>\n",
              "      <td>W</td>\n",
              "      <td>POINT (-147.49924 64.97800)</td>\n",
              "      <td>10562.904</td>\n",
              "    </tr>\n",
              "    <tr>\n",
              "      <th>30</th>\n",
              "      <td>50.000</td>\n",
              "      <td>ATW2 49934M002</td>\n",
              "      <td>-2610899.470</td>\n",
              "      <td>-1560592.900</td>\n",
              "      <td>5587416.735</td>\n",
              "      <td>A</td>\n",
              "      <td>POINT (-149.13230 61.59775)</td>\n",
              "      <td>10602.473</td>\n",
              "    </tr>\n",
              "    <tr>\n",
              "      <th>29</th>\n",
              "      <td>49.000</td>\n",
              "      <td>ASPA 50503S006</td>\n",
              "      <td>-6100260.194</td>\n",
              "      <td>-996502.531</td>\n",
              "      <td>-1567977.175</td>\n",
              "      <td>A</td>\n",
              "      <td>POINT (-170.72244 -14.32609)</td>\n",
              "      <td>10613.185</td>\n",
              "    </tr>\n",
              "    <tr>\n",
              "      <th>364</th>\n",
              "      <td>786.000</td>\n",
              "      <td>UTQI 49508M002</td>\n",
              "      <td>-1880399.977</td>\n",
              "      <td>-813136.683</td>\n",
              "      <td>6019921.495</td>\n",
              "      <td>A</td>\n",
              "      <td>POINT (-156.61502 71.32275)</td>\n",
              "      <td>10743.074</td>\n",
              "    </tr>\n",
              "    <tr>\n",
              "      <th>152</th>\n",
              "      <td>347.000</td>\n",
              "      <td>KOKB 40424M004</td>\n",
              "      <td>-5543838.349</td>\n",
              "      <td>-2054585.723</td>\n",
              "      <td>2387810.489</td>\n",
              "      <td>W</td>\n",
              "      <td>POINT (-159.66494 22.12627)</td>\n",
              "      <td>10794.614</td>\n",
              "    </tr>\n",
              "  </tbody>\n",
              "</table>\n",
              "<p>402 rows × 8 columns</p>\n",
              "</div>"
            ],
            "text/plain": [
              "        NUM    STATION NAME  ...                          geom  distance (KM)\n",
              "314 668.000  SJRP 41633M001  ...   POINT (-49.35995 -20.78552)          0.536\n",
              "328 686.000  SPLI 41677M002  ...   POINT (-49.73370 -21.66520)        104.846\n",
              "325 683.000  SPFE 48082M001  ...   POINT (-50.22870 -20.26287)        107.510\n",
              "320 677.000  SPAR 41676M001  ...   POINT (-50.43979 -21.18466)        120.668\n",
              "327 685.000  SPJA 41686M001  ...   POINT (-48.28670 -21.24107)        122.451\n",
              "..      ...             ...  ...                           ...            ...\n",
              "110 225.000  FAIR 40408M001  ...   POINT (-147.49924 64.97800)      10562.904\n",
              "30   50.000  ATW2 49934M002  ...   POINT (-149.13230 61.59775)      10602.473\n",
              "29   49.000  ASPA 50503S006  ...  POINT (-170.72244 -14.32609)      10613.185\n",
              "364 786.000  UTQI 49508M002  ...   POINT (-156.61502 71.32275)      10743.074\n",
              "152 347.000  KOKB 40424M004  ...   POINT (-159.66494 22.12627)      10794.614\n",
              "\n",
              "[402 rows x 8 columns]"
            ]
          },
          "metadata": {},
          "execution_count": 34
        }
      ]
    },
    {
      "cell_type": "markdown",
      "metadata": {
        "id": "wkTR0IivhrIa"
      },
      "source": [
        "# Stations not beyond maxDistance"
      ]
    },
    {
      "cell_type": "code",
      "metadata": {
        "colab": {
          "base_uri": "https://localhost:8080/",
          "height": 457
        },
        "id": "sc_v8xlaiD9d",
        "outputId": "f3fc9364-d46d-4d47-bf8e-54bd00895749"
      },
      "source": [
        "sirgasDF[sirgasDF[\"distance (KM)\"]< (maxDistance/1000.)].sort_values(\"distance (KM)\")"
      ],
      "execution_count": null,
      "outputs": [
        {
          "output_type": "execute_result",
          "data": {
            "text/html": [
              "<div>\n",
              "<style scoped>\n",
              "    .dataframe tbody tr th:only-of-type {\n",
              "        vertical-align: middle;\n",
              "    }\n",
              "\n",
              "    .dataframe tbody tr th {\n",
              "        vertical-align: top;\n",
              "    }\n",
              "\n",
              "    .dataframe thead th {\n",
              "        text-align: right;\n",
              "    }\n",
              "</style>\n",
              "<table border=\"1\" class=\"dataframe\">\n",
              "  <thead>\n",
              "    <tr style=\"text-align: right;\">\n",
              "      <th></th>\n",
              "      <th>NUM</th>\n",
              "      <th>STATION NAME</th>\n",
              "      <th>X (M)</th>\n",
              "      <th>Y (M)</th>\n",
              "      <th>Z (M)</th>\n",
              "      <th>FLAG</th>\n",
              "      <th>geom</th>\n",
              "      <th>distance (KM)</th>\n",
              "    </tr>\n",
              "  </thead>\n",
              "  <tbody>\n",
              "    <tr>\n",
              "      <th>314</th>\n",
              "      <td>668.000</td>\n",
              "      <td>SJRP 41633M001</td>\n",
              "      <td>3885706.910</td>\n",
              "      <td>-4527124.070</td>\n",
              "      <td>-2249399.894</td>\n",
              "      <td>A</td>\n",
              "      <td>POINT (-49.35995 -20.78552)</td>\n",
              "      <td>0.536</td>\n",
              "    </tr>\n",
              "    <tr>\n",
              "      <th>328</th>\n",
              "      <td>686.000</td>\n",
              "      <td>SPLI 41677M002</td>\n",
              "      <td>3833257.099</td>\n",
              "      <td>-4525414.192</td>\n",
              "      <td>-2340171.405</td>\n",
              "      <td>A</td>\n",
              "      <td>POINT (-49.73370 -21.66520)</td>\n",
              "      <td>104.846</td>\n",
              "    </tr>\n",
              "    <tr>\n",
              "      <th>325</th>\n",
              "      <td>683.000</td>\n",
              "      <td>SPFE 48082M001</td>\n",
              "      <td>3829575.672</td>\n",
              "      <td>-4601083.312</td>\n",
              "      <td>-2195192.220</td>\n",
              "      <td>A</td>\n",
              "      <td>POINT (-50.22870 -20.26287)</td>\n",
              "      <td>107.510</td>\n",
              "    </tr>\n",
              "    <tr>\n",
              "      <th>320</th>\n",
              "      <td>677.000</td>\n",
              "      <td>SPAR 41676M001</td>\n",
              "      <td>3789545.396</td>\n",
              "      <td>-4587255.859</td>\n",
              "      <td>-2290619.107</td>\n",
              "      <td>A</td>\n",
              "      <td>POINT (-50.43979 -21.18466)</td>\n",
              "      <td>120.668</td>\n",
              "    </tr>\n",
              "    <tr>\n",
              "      <th>327</th>\n",
              "      <td>685.000</td>\n",
              "      <td>SPJA 41686M001</td>\n",
              "      <td>3957806.696</td>\n",
              "      <td>-4440069.892</td>\n",
              "      <td>-2296499.619</td>\n",
              "      <td>A</td>\n",
              "      <td>POINT (-48.28670 -21.24107)</td>\n",
              "      <td>122.451</td>\n",
              "    </tr>\n",
              "    <tr>\n",
              "      <th>331</th>\n",
              "      <td>690.000</td>\n",
              "      <td>SPTU 48085M001</td>\n",
              "      <td>3766123.316</td>\n",
              "      <td>-4567433.588</td>\n",
              "      <td>-2367323.583</td>\n",
              "      <td>A</td>\n",
              "      <td>POINT (-50.49237 -21.92912)</td>\n",
              "      <td>172.710</td>\n",
              "    </tr>\n",
              "    <tr>\n",
              "      <th>103</th>\n",
              "      <td>210.000</td>\n",
              "      <td>EESC 41694M001</td>\n",
              "      <td>3967006.970</td>\n",
              "      <td>-4390247.478</td>\n",
              "      <td>-2375229.683</td>\n",
              "      <td>A</td>\n",
              "      <td>POINT (-47.89918 -22.00495)</td>\n",
              "      <td>202.916</td>\n",
              "    </tr>\n",
              "    <tr>\n",
              "      <th>326</th>\n",
              "      <td>684.000</td>\n",
              "      <td>SPFR 41693M001</td>\n",
              "      <td>4046871.166</td>\n",
              "      <td>-4398880.631</td>\n",
              "      <td>-2221086.399</td>\n",
              "      <td>A</td>\n",
              "      <td>POINT (-47.38664 -20.51057)</td>\n",
              "      <td>207.892</td>\n",
              "    </tr>\n",
              "    <tr>\n",
              "      <th>141</th>\n",
              "      <td>307.000</td>\n",
              "      <td>ILHA 41634M001</td>\n",
              "      <td>3735306.350</td>\n",
              "      <td>-4669666.498</td>\n",
              "      <td>-2212269.226</td>\n",
              "      <td>A</td>\n",
              "      <td>POINT (-51.34339 -20.42778)</td>\n",
              "      <td>210.509</td>\n",
              "    </tr>\n",
              "    <tr>\n",
              "      <th>352</th>\n",
              "      <td>759.000</td>\n",
              "      <td>UBE1 41625M001</td>\n",
              "      <td>4014997.181</td>\n",
              "      <td>-4509022.520</td>\n",
              "      <td>-2052040.411</td>\n",
              "      <td>A</td>\n",
              "      <td>POINT (-48.31697 -18.88953)</td>\n",
              "      <td>236.623</td>\n",
              "    </tr>\n",
              "    <tr>\n",
              "      <th>185</th>\n",
              "      <td>436.000</td>\n",
              "      <td>MGUB 41652M001</td>\n",
              "      <td>4019130.625</td>\n",
              "      <td>-4504012.668</td>\n",
              "      <td>-2055168.551</td>\n",
              "      <td>A</td>\n",
              "      <td>POINT (-48.25605 -18.91916)</td>\n",
              "      <td>236.765</td>\n",
              "    </tr>\n",
              "    <tr>\n",
              "      <th>324</th>\n",
              "      <td>681.000</td>\n",
              "      <td>SPDR 48086M001</td>\n",
              "      <td>3692649.661</td>\n",
              "      <td>-4651331.245</td>\n",
              "      <td>-2319169.713</td>\n",
              "      <td>A</td>\n",
              "      <td>POINT (-51.55426 -21.46160)</td>\n",
              "      <td>239.920</td>\n",
              "    </tr>\n",
              "    <tr>\n",
              "      <th>321</th>\n",
              "      <td>678.000</td>\n",
              "      <td>SPBO 41692M001</td>\n",
              "      <td>3902211.621</td>\n",
              "      <td>-4400160.652</td>\n",
              "      <td>-2461983.386</td>\n",
              "      <td>A</td>\n",
              "      <td>POINT (-48.43230 -22.85247)</td>\n",
              "      <td>248.151</td>\n",
              "    </tr>\n",
              "  </tbody>\n",
              "</table>\n",
              "</div>"
            ],
            "text/plain": [
              "        NUM    STATION NAME  ...                         geom  distance (KM)\n",
              "314 668.000  SJRP 41633M001  ...  POINT (-49.35995 -20.78552)          0.536\n",
              "328 686.000  SPLI 41677M002  ...  POINT (-49.73370 -21.66520)        104.846\n",
              "325 683.000  SPFE 48082M001  ...  POINT (-50.22870 -20.26287)        107.510\n",
              "320 677.000  SPAR 41676M001  ...  POINT (-50.43979 -21.18466)        120.668\n",
              "327 685.000  SPJA 41686M001  ...  POINT (-48.28670 -21.24107)        122.451\n",
              "331 690.000  SPTU 48085M001  ...  POINT (-50.49237 -21.92912)        172.710\n",
              "103 210.000  EESC 41694M001  ...  POINT (-47.89918 -22.00495)        202.916\n",
              "326 684.000  SPFR 41693M001  ...  POINT (-47.38664 -20.51057)        207.892\n",
              "141 307.000  ILHA 41634M001  ...  POINT (-51.34339 -20.42778)        210.509\n",
              "352 759.000  UBE1 41625M001  ...  POINT (-48.31697 -18.88953)        236.623\n",
              "185 436.000  MGUB 41652M001  ...  POINT (-48.25605 -18.91916)        236.765\n",
              "324 681.000  SPDR 48086M001  ...  POINT (-51.55426 -21.46160)        239.920\n",
              "321 678.000  SPBO 41692M001  ...  POINT (-48.43230 -22.85247)        248.151\n",
              "\n",
              "[13 rows x 8 columns]"
            ]
          },
          "metadata": {},
          "execution_count": 35
        }
      ]
    },
    {
      "cell_type": "code",
      "metadata": {
        "colab": {
          "base_uri": "https://localhost:8080/",
          "height": 81
        },
        "id": "cp1XFeKpkDR9",
        "outputId": "fb060568-35c1-4797-c964-d70df74a13e8"
      },
      "source": [
        "sirgasDF[sirgasDF[\"STATION NAME\"].str.startswith(\"SJRP\")]"
      ],
      "execution_count": null,
      "outputs": [
        {
          "output_type": "execute_result",
          "data": {
            "text/html": [
              "<div>\n",
              "<style scoped>\n",
              "    .dataframe tbody tr th:only-of-type {\n",
              "        vertical-align: middle;\n",
              "    }\n",
              "\n",
              "    .dataframe tbody tr th {\n",
              "        vertical-align: top;\n",
              "    }\n",
              "\n",
              "    .dataframe thead th {\n",
              "        text-align: right;\n",
              "    }\n",
              "</style>\n",
              "<table border=\"1\" class=\"dataframe\">\n",
              "  <thead>\n",
              "    <tr style=\"text-align: right;\">\n",
              "      <th></th>\n",
              "      <th>NUM</th>\n",
              "      <th>STATION NAME</th>\n",
              "      <th>X (M)</th>\n",
              "      <th>Y (M)</th>\n",
              "      <th>Z (M)</th>\n",
              "      <th>FLAG</th>\n",
              "      <th>geom</th>\n",
              "      <th>distance (KM)</th>\n",
              "    </tr>\n",
              "  </thead>\n",
              "  <tbody>\n",
              "    <tr>\n",
              "      <th>314</th>\n",
              "      <td>668.000</td>\n",
              "      <td>SJRP 41633M001</td>\n",
              "      <td>3885706.910</td>\n",
              "      <td>-4527124.070</td>\n",
              "      <td>-2249399.894</td>\n",
              "      <td>A</td>\n",
              "      <td>POINT (-49.35995 -20.78552)</td>\n",
              "      <td>0.536</td>\n",
              "    </tr>\n",
              "  </tbody>\n",
              "</table>\n",
              "</div>"
            ],
            "text/plain": [
              "        NUM    STATION NAME  ...                         geom  distance (KM)\n",
              "314 668.000  SJRP 41633M001  ...  POINT (-49.35995 -20.78552)          0.536\n",
              "\n",
              "[1 rows x 8 columns]"
            ]
          },
          "metadata": {},
          "execution_count": 36
        }
      ]
    },
    {
      "cell_type": "code",
      "metadata": {
        "colab": {
          "base_uri": "https://localhost:8080/",
          "height": 81
        },
        "id": "1HgmyyXhvpfi",
        "outputId": "cc63e935-5953-4364-d882-f963961f249e"
      },
      "source": [
        "sirgasDF[sirgasDF[\"STATION NAME\"].str.startswith(\"ONRJ\")]\n"
      ],
      "execution_count": null,
      "outputs": [
        {
          "output_type": "execute_result",
          "data": {
            "text/html": [
              "<div>\n",
              "<style scoped>\n",
              "    .dataframe tbody tr th:only-of-type {\n",
              "        vertical-align: middle;\n",
              "    }\n",
              "\n",
              "    .dataframe tbody tr th {\n",
              "        vertical-align: top;\n",
              "    }\n",
              "\n",
              "    .dataframe thead th {\n",
              "        text-align: right;\n",
              "    }\n",
              "</style>\n",
              "<table border=\"1\" class=\"dataframe\">\n",
              "  <thead>\n",
              "    <tr style=\"text-align: right;\">\n",
              "      <th></th>\n",
              "      <th>NUM</th>\n",
              "      <th>STATION NAME</th>\n",
              "      <th>X (M)</th>\n",
              "      <th>Y (M)</th>\n",
              "      <th>Z (M)</th>\n",
              "      <th>FLAG</th>\n",
              "      <th>geom</th>\n",
              "      <th>distance (KM)</th>\n",
              "    </tr>\n",
              "  </thead>\n",
              "  <tbody>\n",
              "    <tr>\n",
              "      <th>230</th>\n",
              "      <td>518.000</td>\n",
              "      <td>ONRJ 41635M001</td>\n",
              "      <td>4283638.373</td>\n",
              "      <td>-4026028.948</td>\n",
              "      <td>-2466096.593</td>\n",
              "      <td>A</td>\n",
              "      <td>POINT (-43.22433 -22.89570)</td>\n",
              "      <td>675.547</td>\n",
              "    </tr>\n",
              "  </tbody>\n",
              "</table>\n",
              "</div>"
            ],
            "text/plain": [
              "        NUM    STATION NAME  ...                         geom  distance (KM)\n",
              "230 518.000  ONRJ 41635M001  ...  POINT (-43.22433 -22.89570)        675.547\n",
              "\n",
              "[1 rows x 8 columns]"
            ]
          },
          "metadata": {},
          "execution_count": 37
        }
      ]
    }
  ]
}